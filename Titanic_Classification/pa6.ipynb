{
 "cells": [
  {
   "cell_type": "code",
   "execution_count": null,
   "metadata": {},
   "outputs": [],
   "source": [
    "##############################################\n",
    "# Programmer: Hannah Horn\n",
    "# Class: CPSC 322-01 Fall 2024\n",
    "# Programming Assignment #6\n",
    "# 11/7/24\n",
    "# I did not attempt the bonus\n",
    "# Description: This program determines how well three different \n",
    "# classifiers (KNN, Naive Bayes, and Dummy) classify the titanic\n",
    "# dataset using class, age, and sex as attributes to determine\n",
    "# the survival rate. Various evaluation metrics are used. \n",
    "##############################################"
   ]
  },
  {
   "cell_type": "code",
   "execution_count": 1,
   "metadata": {},
   "outputs": [],
   "source": [
    "# some useful mysklearn package import statements and reloads\n",
    "import importlib\n",
    "\n",
    "import mysklearn.myutils\n",
    "importlib.reload(mysklearn.myutils)\n",
    "import mysklearn.myutils as myutils\n",
    "\n",
    "import mysklearn.mypytable\n",
    "importlib.reload(mysklearn.mypytable)\n",
    "from mysklearn.mypytable import MyPyTable \n",
    "\n",
    "import mysklearn.myclassifiers\n",
    "importlib.reload(mysklearn.myclassifiers)\n",
    "from mysklearn.myclassifiers import MyKNeighborsClassifier, MyDummyClassifier, MyNaiveBayesClassifier\n",
    "\n",
    "import mysklearn.myevaluation\n",
    "importlib.reload(mysklearn.myevaluation)\n",
    "import mysklearn.myevaluation as myevaluation"
   ]
  },
  {
   "cell_type": "markdown",
   "metadata": {},
   "source": [
    "# Part 2: 🚢 Titanic Classification 🚢 "
   ]
  },
  {
   "cell_type": "markdown",
   "metadata": {},
   "source": [
    "The titanic dataset that we will be working with consists of instances representing passengers aboard the Titanic ship that sank in the North Atlantic Ocean on 15 April 1912.\n",
    "\n",
    "The dataset has three attributes describing a passenger (class, age, sex) and a binary class label (survived; 1490 \"yes\" and 711 \"no\") denoting whether the passenger survived the shipwreck or not."
   ]
  },
  {
   "cell_type": "markdown",
   "metadata": {},
   "source": [
    "### Classifying the Titanic Dataset using kNN"
   ]
  },
  {
   "cell_type": "markdown",
   "metadata": {},
   "source": [
    "This section will determine how well kNN classifies the titanic dataset using class, age, and sex attributes to determine the survival value using k-fold cross validation (with k =10)\n",
    "\n",
    "**Note: Since class, age, and sex are all categorical attributes, we needed to update the kNN implementation to reflect this**\n",
    "\n",
    "We will then report the:\n",
    "1. Accuracy and Error Rate\n",
    "2. Precision, recall, and F1 measure\n",
    "3. Confusion Matrix"
   ]
  },
  {
   "cell_type": "code",
   "execution_count": 8,
   "metadata": {},
   "outputs": [
    {
     "name": "stdout",
     "output_type": "stream",
     "text": [
      "========================================================\n",
      "10-Fold Cross Validation Results for KNN Classifier\n",
      "========================================================\n",
      "Accuracy = 0.61, error rate = 0.39\n",
      "Precision = 0.78\n",
      "Recall = 0.60\n",
      "F1 Measure = 0.68\n",
      "\n",
      "Confusion Matrix:\n",
      "Actual Class      no    yes    Total    Recognition (%)\n",
      "--------------  ----  -----  -------  -----------------\n",
      "no               461    250      711               64.8\n",
      "yes              602    888     1490               59.6\n"
     ]
    }
   ],
   "source": [
    "X, y = myutils.prepare_categorical_data_random_subsamples()\n",
    "knn_classifier = MyKNeighborsClassifier(n_neighbors = 3, categorical = [True, True, True])\n",
    "\n",
    "print(\"========================================================\")\n",
    "print(\"10-Fold Cross Validation Results for KNN Classifier\")\n",
    "print(\"========================================================\")\n",
    "results = myutils.evaluate_classifier(X, y, knn_classifier)\n"
   ]
  },
  {
   "cell_type": "markdown",
   "metadata": {},
   "source": [
    "### Classifying the Titanic Dataset using Dummy Classifier"
   ]
  },
  {
   "cell_type": "markdown",
   "metadata": {},
   "source": [
    "This section will determine how well Dummy classifies the titanic dataset using class, age, and sex attributes to determine the survival value using k-fold cross validation (with k =10)\n",
    "\n",
    "We will then report the:\n",
    "1. Accuracy and Error Rate\n",
    "2. Precision, recall, and F1 measure\n",
    "3. Confusion Matrix"
   ]
  },
  {
   "cell_type": "code",
   "execution_count": 6,
   "metadata": {},
   "outputs": [
    {
     "name": "stdout",
     "output_type": "stream",
     "text": [
      "========================================================\n",
      "10-Fold Cross Validation Results for Dummy Classifier\n",
      "========================================================\n",
      "Accuracy = 0.68, error rate = 0.32\n",
      "Precision = 0.68\n",
      "Recall = 1.00\n",
      "F1 Measure = 0.81\n",
      "\n",
      "Confusion Matrix:\n",
      "Actual Class      no    yes    Total    Recognition (%)\n",
      "--------------  ----  -----  -------  -----------------\n",
      "no                 0    711      711                0.0\n",
      "yes                0   1490     1490              100.0\n"
     ]
    }
   ],
   "source": [
    "X, y = myutils.prepare_categorical_data_random_subsamples()\n",
    "dummy_classifier = MyDummyClassifier()\n",
    "\n",
    "print(\"========================================================\")\n",
    "print(\"10-Fold Cross Validation Results for Dummy Classifier\")\n",
    "print(\"========================================================\")\n",
    "results = myutils.evaluate_classifier(X, y, dummy_classifier)\n"
   ]
  },
  {
   "cell_type": "markdown",
   "metadata": {},
   "source": [
    "### Classifying the Titanic Dataset using Naive Bayes"
   ]
  },
  {
   "cell_type": "markdown",
   "metadata": {},
   "source": [
    "This section will determine how well Naive Bayes classifies the titanic dataset using class, age, and sex attributes to determine the survival value using k-fold cross validation (with k =10)\n",
    "\n",
    "We will then report the:\n",
    "1. Accuracy and Error Rate\n",
    "2. Precision, recall, and F1 measure\n",
    "3. Confusion Matrix"
   ]
  },
  {
   "cell_type": "code",
   "execution_count": 5,
   "metadata": {},
   "outputs": [
    {
     "name": "stdout",
     "output_type": "stream",
     "text": [
      "========================================================\n",
      "10-Fold Cross Validation Results for Naive Bayes Classifier\n",
      "========================================================\n",
      "Accuracy = 0.78, error rate = 0.22\n",
      "Precision = 0.79\n",
      "Recall = 0.92\n",
      "F1 Measure = 0.85\n",
      "\n",
      "Confusion Matrix:\n",
      "Actual Class      no    yes    Total    Recognition (%)\n",
      "--------------  ----  -----  -------  -----------------\n",
      "no               351    360      711               49.4\n",
      "yes              126   1364     1490               91.5\n"
     ]
    }
   ],
   "source": [
    "X, y = myutils.prepare_categorical_data_random_subsamples()\n",
    "naive_classifier = MyNaiveBayesClassifier()\n",
    "\n",
    "print(\"========================================================\")\n",
    "print(\"10-Fold Cross Validation Results for Naive Bayes Classifier\")\n",
    "print(\"========================================================\")\n",
    "results = myutils.evaluate_classifier(X, y, naive_classifier)\n"
   ]
  }
 ],
 "metadata": {
  "kernelspec": {
   "display_name": "Python 3",
   "language": "python",
   "name": "python3"
  },
  "language_info": {
   "codemirror_mode": {
    "name": "ipython",
    "version": 3
   },
   "file_extension": ".py",
   "mimetype": "text/x-python",
   "name": "python",
   "nbconvert_exporter": "python",
   "pygments_lexer": "ipython3",
   "version": "3.12.4"
  }
 },
 "nbformat": 4,
 "nbformat_minor": 4
}
