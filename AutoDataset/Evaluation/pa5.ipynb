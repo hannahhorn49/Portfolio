{
 "cells": [
  {
   "cell_type": "code",
   "execution_count": 7,
   "metadata": {},
   "outputs": [],
   "source": [
    "##############################################\n",
    "# Programmer: Hannah Horn\n",
    "# Class: CPSC 322-01, Fall 2024\n",
    "# Programming Assignment #5\n",
    "# 10/28/24\n",
    "# I did not attempt the bonus\n",
    "# \n",
    "# Description: This jupyter notebook calculates the accuracy and error rates of the different classifiers\n",
    "#               based on random sub sampling, k fold cross validation, and the bootstrap method. It then displays a \n",
    "#               a confusion matrix based on the k fold cross validation results\n",
    "##############################################"
   ]
  },
  {
   "cell_type": "code",
   "execution_count": 8,
   "metadata": {},
   "outputs": [],
   "source": [
    "# some useful mysklearn package import statements and reloads\n",
    "import importlib\n",
    "\n",
    "import mysklearn.myutils\n",
    "importlib.reload(mysklearn.myutils)\n",
    "import mysklearn.myutils as myutils\n",
    "\n",
    "import mysklearn.mypytable\n",
    "importlib.reload(mysklearn.mypytable)\n",
    "from mysklearn.mypytable import MyPyTable \n",
    "\n",
    "import mysklearn.myclassifiers\n",
    "importlib.reload(mysklearn.myclassifiers)\n",
    "from mysklearn.myclassifiers import MyKNeighborsClassifier, MyDummyClassifier\n",
    "\n",
    "import mysklearn.myevaluation\n",
    "importlib.reload(mysklearn.myevaluation)\n",
    "import mysklearn.myevaluation as myevaluation"
   ]
  },
  {
   "cell_type": "markdown",
   "metadata": {},
   "source": [
    "# Part 2: 🚗 Auto Classification 🚗"
   ]
  },
  {
   "cell_type": "markdown",
   "metadata": {},
   "source": [
    "### Step 1 Train/Test Sets: Random Sub-sampling"
   ]
  },
  {
   "cell_type": "markdown",
   "metadata": {},
   "source": [
    "This section will calculate the accuracy and error rate for the kNN and Dummy classifiers for predicting DOE mpg ratings using number of cylinders, weight, and acceleration attributes. \n",
    "\n",
    "This will use `random sub-sampling` with k = 10 and a 2:1 train/test split"
   ]
  },
  {
   "cell_type": "code",
   "execution_count": 9,
   "metadata": {},
   "outputs": [
    {
     "name": "stdout",
     "output_type": "stream",
     "text": [
      "===========================================\n",
      "STEP 1: Predictive Accuracy and Error Rate\n",
      "===========================================\n",
      "Random Subsample (k=10, 2:1 Train/Test)\n",
      "k Nearest Neighbors Classifier: accuracy = 0.40, error rate = 0.60\n",
      "Dummy Classifier: accuracy = 0.18, error rate = 0.82\n"
     ]
    }
   ],
   "source": [
    "# compute the predictive accuracy and error rate for each classifier\n",
    "# start with KNN\n",
    "\n",
    "X, y = myutils.prepare_data_random_subsamples()\n",
    "classifier = MyKNeighborsClassifier()\n",
    "\n",
    "knn_accuracy, knn_error_rate = myutils.random_subsample(X, y, classifier, k=10, test_size=0.33)\n",
    "\n",
    "# then with Dummy\n",
    "X, y = myutils.prepare_data_random_subsamples()\n",
    "classifier = MyDummyClassifier()\n",
    "\n",
    "dummy_accuracy, dummy_error_rate = myutils.random_subsample(X, y, classifier, k=10, test_size=0.33)\n",
    "\n",
    "# Print the formatted output\n",
    "print(\"===========================================\")\n",
    "print(\"STEP 1: Predictive Accuracy and Error Rate\")\n",
    "print(\"===========================================\")\n",
    "print(\"Random Subsample (k=10, 2:1 Train/Test)\")\n",
    "print(f\"k Nearest Neighbors Classifier: accuracy = {knn_accuracy:.2f}, error rate = {knn_error_rate:.2f}\")\n",
    "print(f\"Dummy Classifier: accuracy = {dummy_accuracy:.2f}, error rate = {dummy_error_rate:.2f}\")\n",
    "\n"
   ]
  },
  {
   "cell_type": "markdown",
   "metadata": {},
   "source": [
    "### Step 2 Train/Test Sets: Cross Validation"
   ]
  },
  {
   "cell_type": "markdown",
   "metadata": {},
   "source": [
    "This section will calculate the accuracy and error rate for the kNN and Dummy classifiers for predicting DOE mpg ratings using number of cylinders, weight, and acceleration attributes. \n",
    "\n",
    "Instead of random sub-sampling, we are using `k-fold cross validation` with k = 10. "
   ]
  },
  {
   "cell_type": "code",
   "execution_count": 10,
   "metadata": {},
   "outputs": [
    {
     "name": "stdout",
     "output_type": "stream",
     "text": [
      "========================================================\n",
      "STEP 2: Predictive Accuracy with K-Fold Cross-Validation\n",
      "========================================================\n",
      "10-Fold Cross Validation\n",
      "K-Nearest Neighbors Classifier: accuracy = 0.39, error rate = 0.61\n",
      "Dummy Classifier: accuracy = 0.20, error rate = 0.80\n"
     ]
    }
   ],
   "source": [
    "# get X and y for cross_val_predict function\n",
    "X, y = myutils.prepare_data_random_subsamples()\n",
    "\n",
    "# KNN classifier\n",
    "knn_classifier = MyKNeighborsClassifier()\n",
    "knn_predictions = myutils.cross_val_predict(X, y, knn_classifier, n_splits=10)\n",
    "knn_accuracy = myevaluation.accuracy_score(y, knn_predictions)\n",
    "knn_error_rate = 1 - knn_accuracy\n",
    "\n",
    "# Dummy classifier\n",
    "dummy_classifier = MyDummyClassifier()\n",
    "dummy_predictions = myutils.cross_val_predict(X, y, dummy_classifier, n_splits=10)\n",
    "dummy_accuracy = myevaluation.accuracy_score(y, dummy_predictions)\n",
    "dummy_error_rate = 1 - dummy_accuracy\n",
    "\n",
    "# display results\n",
    "print(\"========================================================\")\n",
    "print(\"STEP 2: Predictive Accuracy with K-Fold Cross-Validation\")\n",
    "print(\"========================================================\")\n",
    "print(\"10-Fold Cross Validation\")\n",
    "print(f\"K-Nearest Neighbors Classifier: accuracy = {knn_accuracy:.2f}, error rate = {knn_error_rate:.2f}\")\n",
    "print(f\"Dummy Classifier: accuracy = {dummy_accuracy:.2f}, error rate = {dummy_error_rate:.2f}\")\n"
   ]
  },
  {
   "cell_type": "markdown",
   "metadata": {},
   "source": [
    "### Step 3 Train/Test Sets: Bootstrap Method"
   ]
  },
  {
   "cell_type": "markdown",
   "metadata": {},
   "source": [
    "This section will calculate the accuracy and error rate for the kNN and Dummy classifiers for predicting DOE mpg ratings using number of cylinders, weight, and acceleration attributes. \n",
    "\n",
    "This will use the `bootstrap method` with k=10"
   ]
  },
  {
   "cell_type": "code",
   "execution_count": 11,
   "metadata": {},
   "outputs": [
    {
     "name": "stdout",
     "output_type": "stream",
     "text": [
      "==============================================\n",
      "STEP 3: Predictive Accuracy with Bootstrapping\n",
      "==============================================\n",
      "k=10 Bootstrap Method\n",
      "k-Nearest Neighbors Classifier: accuracy = 0.35, error rate = 0.65\n",
      "Dummy Classifier: accuracy = 0.21, error rate = 0.79\n"
     ]
    }
   ],
   "source": [
    "# get X and y for bootstrap_method function\n",
    "X, y = myutils.prepare_data_random_subsamples()\n",
    "\n",
    "# KNN classifier\n",
    "knn_classifier = MyKNeighborsClassifier()\n",
    "knn_accuracy, knn_error_rate = myutils.bootstrap_method(X, y, knn_classifier, k = 10)\n",
    "\n",
    "# Dummy classifier\n",
    "dummy_classifier = MyDummyClassifier()\n",
    "dummy_accuracy, dummy_error_rate = myutils.bootstrap_method(X, y, dummy_classifier, k =10)\n",
    "\n",
    "# display results\n",
    "print(\"==============================================\")\n",
    "print(\"STEP 3: Predictive Accuracy with Bootstrapping\")\n",
    "print(\"==============================================\")\n",
    "print(\"k=10 Bootstrap Method\")\n",
    "print(f\"k-Nearest Neighbors Classifier: accuracy = {knn_accuracy:.2f}, error rate = {knn_error_rate:.2f}\")\n",
    "print(f\"Dummy Classifier: accuracy = {dummy_accuracy:.2f}, error rate = {dummy_error_rate:.2f}\")\n",
    "\n"
   ]
  },
  {
   "cell_type": "markdown",
   "metadata": {},
   "source": [
    "### Step 4 Confusion Matrices"
   ]
  },
  {
   "cell_type": "markdown",
   "metadata": {},
   "source": [
    "This step will create confusion matrices for each classifier (kNN and Dummy) based on the 10-fold cross validation results."
   ]
  },
  {
   "cell_type": "code",
   "execution_count": 12,
   "metadata": {},
   "outputs": [
    {
     "name": "stdout",
     "output_type": "stream",
     "text": [
      "K-Nearest Neighbors Confusion Matrix:\n",
      "  MPG Ranking    1    2    3    4    5    6    7    8    9    Total    Recognition (%)\n",
      "-------------  ---  ---  ---  ---  ---  ---  ---  ---  ---  -------  -----------------\n",
      "            1   15    4    6    3    0    0    0    0    0       28               53.6\n",
      "            2    5    0    9    2    0    0    0    0    0       16                0.0\n",
      "            3    6    5    8   11    5    0    0    0    0       35               22.9\n",
      "            4    1    2    6   26   15    1    0    0    0       51               51.0\n",
      "            5    0    0    2   19   15    8    3    0    0       47               31.9\n",
      "            6    0    0    0    2    7   21    4    1    0       35               60.0\n",
      "            7    0    0    0    1    3    5    9    7    2       27               33.3\n",
      "            8    0    0    0    0    0    5    6    8    0       19               42.1\n",
      "            9    0    0    0    0    0    1    1    0    0        2                0.0\n",
      "\n",
      "Dummy Classifier Confusion Matrix:\n",
      "  MPG Ranking    1    2    3    4    5    6    7    8    9    Total    Recognition (%)\n",
      "-------------  ---  ---  ---  ---  ---  ---  ---  ---  ---  -------  -----------------\n",
      "            1    0    0    0   28    0    0    0    0    0       28                0.0\n",
      "            2    0    0    0   16    0    0    0    0    0       16                0.0\n",
      "            3    0    0    0   35    0    0    0    0    0       35                0.0\n",
      "            4    0    0    0   51    0    0    0    0    0       51              100.0\n",
      "            5    0    0    0   47    0    0    0    0    0       47                0.0\n",
      "            6    0    0    0   35    0    0    0    0    0       35                0.0\n",
      "            7    0    0    0   27    0    0    0    0    0       27                0.0\n",
      "            8    0    0    0   19    0    0    0    0    0       19                0.0\n",
      "            9    0    0    0    2    0    0    0    0    0        2                0.0\n"
     ]
    }
   ],
   "source": [
    "from tabulate import tabulate\n",
    "\n",
    "# define the classifiers\n",
    "knn_classifier = MyKNeighborsClassifier()\n",
    "dummy_classifier = MyDummyClassifier()\n",
    "\n",
    "# get predictions based on 10-fold cross validation results\n",
    "knn_predictions = myutils.cross_val_predict(X, y, knn_classifier, n_splits=10)\n",
    "dummy_predictions = myutils.cross_val_predict(X, y, dummy_classifier, n_splits=10)\n",
    "\n",
    "# get the unique labels for the target values\n",
    "labels = list(set(y)) \n",
    "\n",
    "# call function to create confusion matrix\n",
    "knn_confusion = myevaluation.confusion_matrix(y, knn_predictions, labels)\n",
    "dummy_confusion = myevaluation.confusion_matrix(y, dummy_predictions, labels)\n",
    "\n",
    "# Print the confusion matrix with the MPG Ranking column\n",
    "print(\"K-Nearest Neighbors Confusion Matrix:\")\n",
    "myutils.print_confusion_matrix_with_metrics(knn_confusion, labels)\n",
    "\n",
    "print(\"\\nDummy Classifier Confusion Matrix:\")\n",
    "myutils.print_confusion_matrix_with_metrics(dummy_confusion, labels)\n"
   ]
  }
 ],
 "metadata": {
  "kernelspec": {
   "display_name": "Python 3",
   "language": "python",
   "name": "python3"
  },
  "language_info": {
   "codemirror_mode": {
    "name": "ipython",
    "version": 3
   },
   "file_extension": ".py",
   "mimetype": "text/x-python",
   "name": "python",
   "nbconvert_exporter": "python",
   "pygments_lexer": "ipython3",
   "version": "3.12.4"
  }
 },
 "nbformat": 4,
 "nbformat_minor": 4
}
